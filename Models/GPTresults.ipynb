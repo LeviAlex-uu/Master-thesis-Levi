{
 "cells": [
  {
   "cell_type": "code",
   "execution_count": 1,
   "metadata": {},
   "outputs": [],
   "source": [
    "import os\n",
    "import re\n",
    "import sys\n",
    "\n",
    "import numpy as np\n",
    "import matplotlib as plt\n",
    "\n",
    "from dataReader import getLabels, getOntologies\n",
    "from baselines import normalizedLevenshtein"
   ]
  },
  {
   "cell_type": "code",
   "execution_count": 5,
   "metadata": {},
   "outputs": [],
   "source": [
    "true_labels,true_paths,true_matches,_,true_sources,true_ontologies,_ = getLabels(path='Copy of mapping.xlsx')"
   ]
  },
  {
   "cell_type": "code",
   "execution_count": 6,
   "metadata": {},
   "outputs": [],
   "source": [
    "def labelDict(data):\n",
    "    dictionary = {}\n",
    "    for key,val1,val2 in data:\n",
    "        key = key.strip().lower()\n",
    "        if key in dictionary:\n",
    "            if (val1,val2) not in dictionary[key]:\n",
    "                dictionary[key] += [(val1.lower(), val2.lower() + '.txt')]\n",
    "        else:\n",
    "            dictionary[key] = [(val1.lower(), val2.lower() + '.txt')]\n",
    "    return dictionary"
   ]
  },
  {
   "cell_type": "code",
   "execution_count": 7,
   "metadata": {},
   "outputs": [],
   "source": [
    "dictionary = labelDict(zip(true_labels,true_matches,true_ontologies))\n",
    "dictionary2 = labelDict(zip(true_labels,true_paths,true_ontologies))\n",
    "#dictionary = labelDict(zip(true_labels,true_sources,true_ontologies))"
   ]
  },
  {
   "cell_type": "code",
   "execution_count": 8,
   "metadata": {},
   "outputs": [],
   "source": [
    "f = open('./Results/outputGPT3.5_test.txt','r')\n",
    "lines = f.readlines()\n",
    "lines = [x for x in lines if x != '\\n']"
   ]
  },
  {
   "cell_type": "code",
   "execution_count": 4,
   "metadata": {},
   "outputs": [
    {
     "name": "stdout",
     "output_type": "stream",
     "text": [
      "None\n",
      "<re.Match object; span=(0, 86), match='{Label: GearOilTemperature_val, Match: noMatch, O>\n"
     ]
    }
   ],
   "source": [
    "t = [\"Thing\", \"{Label: GearOilTemperature_val, Match: noMatch, Ontology: noMatch file name, Score: 1}\"]\n",
    "for s in t:\n",
    "    d = re.search('{.*}',s)\n",
    "    print(d)"
   ]
  },
  {
   "cell_type": "code",
   "execution_count": 25,
   "metadata": {},
   "outputs": [],
   "source": [
    "pred_labels = []\n",
    "pred_matches = []\n",
    "pred_sources = []\n",
    "for l in lines:\n",
    "    if re.search('{.*}',l) != None:\n",
    "        try:\n",
    "            pred_labels.append(re.search('Label:(.*)Match:', l).group(1)[1:-2].strip().lower())\n",
    "            pred_matches.append(re.search('Match:(.*)Ontology:', l).group(1)[1:-2].lower())\n",
    "            pred_sources.append(re.search('Ontology:(.*)Score:', l).group(1)[1:-2].lower())\n",
    "        except Warning:\n",
    "            print('Something went wrong')\n",
    "\n",
    "#pred_matches = [y.replace('<', '').replace('>', '') for y in ['noMatch' if x[0] != '<' else x for x in pred_matches]]\n",
    "\n",
    "predictions = list(zip(pred_labels,pred_matches,pred_sources))\n"
   ]
  },
  {
   "cell_type": "code",
   "execution_count": 18,
   "metadata": {},
   "outputs": [],
   "source": [
    "def evaluate_predictions(predictions, dictionary, path = False):\n",
    "    tp, fp, tn, fn = 0, 0, 0, 0\n",
    "    for (l,m,s) in predictions:\n",
    "        try:\n",
    "            if not path:\n",
    "                if (m,s.replace('.txt', '')+'.txt') in dictionary[l]:\n",
    "                    tp += 1\n",
    "                elif m == 'nomatch':\n",
    "                    if (m,m.replace('.txt','')+'.txt') in dictionary[l]:\n",
    "                        tn += 1\n",
    "                    elif (m,m.replace('.txt','')+'.txt') not in dictionary[l]:\n",
    "                        fn += 1\n",
    "                else:\n",
    "                    fp += 1\n",
    "            else:\n",
    "                for (path,source) in dictionary[l]: \n",
    "                    if m in path.split(':') and s.replace('.txt','')+'.txt' == source:\n",
    "                        tp += 1\n",
    "                        break\n",
    "                    elif m == 'nomatch':\n",
    "                        if m in path.split(':'):\n",
    "                            tn += 1\n",
    "                            break\n",
    "                        elif m not in path.split(':'):\n",
    "                            fn += 1\n",
    "                            break\n",
    "                    else:\n",
    "                        fp += 1\n",
    "                        break\n",
    "        except:\n",
    "            print(l)\n",
    "    t = sum([1 for _,x,_ in predictions if x == 'nomatch'])\n",
    "    print(tp, fp, tn, fn)\n",
    "    print(f'Labels not found in manual mapping: {len(predictions)-(tp+fp+tn+fn)}')\n",
    "    print(f'noMatch count: {t}')\n",
    "\n",
    "    N = len(predictions)\n",
    "    accuracy = round((tp+tn)/N,3)\n",
    "    precision = round(tp/(tp+fp),3)\n",
    "    recall = round(tp/(tp+fn),3)\n",
    "\n",
    "    print(f'Accuracy: {accuracy}, Precision: {precision}, Recall: {recall}')"
   ]
  },
  {
   "cell_type": "code",
   "execution_count": 26,
   "metadata": {},
   "outputs": [
    {
     "name": "stdout",
     "output_type": "stream",
     "text": [
      "current inverter set power\n",
      "59 181 40 279\n",
      "Labels not found in manual mapping: 1\n",
      "noMatch count: 373\n",
      "Accuracy: 0.177, Precision: 0.246, Recall: 0.175\n",
      "current inverter set power\n",
      "73 167 40 279\n",
      "Labels not found in manual mapping: 1\n",
      "noMatch count: 373\n",
      "Accuracy: 0.202, Precision: 0.304, Recall: 0.207\n"
     ]
    }
   ],
   "source": [
    "evaluate_predictions(predictions, dictionary)\n",
    "evaluate_predictions(predictions, dictionary2, True)"
   ]
  },
  {
   "cell_type": "code",
   "execution_count": 12,
   "metadata": {},
   "outputs": [
    {
     "name": "stdout",
     "output_type": "stream",
     "text": [
      "the calculated specific heat loss coefficient ht/a of the building's enclosing structures, w/m2k\n",
      "specific heat loss coefficient of building,  ht max/a calculated, w/m2k\n",
      "specific heat loss coefficient of building ventilation hventilation/acalculated, w/m2k\n"
     ]
    }
   ],
   "source": [
    "for k in dictionary.keys():\n",
    "    if 'specific' in k.split():\n",
    "        print(k)"
   ]
  },
  {
   "cell_type": "code",
   "execution_count": 17,
   "metadata": {},
   "outputs": [
    {
     "data": {
      "text/plain": [
       "[]"
      ]
     },
     "execution_count": 17,
     "metadata": {},
     "output_type": "execute_result"
    }
   ],
   "source": [
    "N = 'Nomatch'.lower()\n",
    "labels = getOntologies()\n",
    "[x for x,y in labels if y.lower() == N+'.ttl']"
   ]
  },
  {
   "cell_type": "code",
   "execution_count": 20,
   "metadata": {},
   "outputs": [
    {
     "data": {
      "text/plain": [
       "[1, 2]"
      ]
     },
     "execution_count": 20,
     "metadata": {},
     "output_type": "execute_result"
    }
   ],
   "source": [
    "[1,2,3,4][:-2]"
   ]
  }
 ],
 "metadata": {
  "kernelspec": {
   "display_name": "OpenAI",
   "language": "python",
   "name": "python3"
  },
  "language_info": {
   "codemirror_mode": {
    "name": "ipython",
    "version": 3
   },
   "file_extension": ".py",
   "mimetype": "text/x-python",
   "name": "python",
   "nbconvert_exporter": "python",
   "pygments_lexer": "ipython3",
   "version": "3.11.8"
  }
 },
 "nbformat": 4,
 "nbformat_minor": 2
}
